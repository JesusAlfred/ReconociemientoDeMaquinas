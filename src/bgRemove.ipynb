{
 "cells": [
  {
   "cell_type": "code",
   "execution_count": null,
   "metadata": {},
   "outputs": [],
   "source": [
    "import numpy as np\n",
    "from PIL import Image\n",
    "from statistics import mode\n",
    "import operator as op\n",
    "import os"
   ]
  },
  {
   "cell_type": "code",
   "execution_count": null,
   "metadata": {},
   "outputs": [],
   "source": [
    "imageDir = \"../../img\"\n",
    "outputDir = \"../../cleanedImg\"\n",
    "colorThreshold = 80\n",
    "backgroundColorPercentage = 0.3\n",
    "\n",
    "bgRemoveCounter = 0\n",
    "totalCounter = 0"
   ]
  },
  {
   "cell_type": "code",
   "execution_count": null,
   "metadata": {},
   "outputs": [],
   "source": [
    "def equalsThreshold(c1, c2, threshold):\n",
    "    return (\n",
    "        c2[0] >= c1[0] - threshold and c2[0] <= c1[0] + threshold and\n",
    "        c2[1] >= c1[1] - threshold and c2[1] <= c1[1] + threshold and\n",
    "        c2[2] >= c1[2] - threshold and c2[2] <= c1[2] + threshold\n",
    "    )"
   ]
  },
  {
   "cell_type": "code",
   "execution_count": null,
   "metadata": {},
   "outputs": [],
   "source": [
    "# vals, counts = stats.mode(imgData, axis=1)\n",
    "def removeBackground(img):\n",
    "    global bgRemoveCounter\n",
    "    global totalCounter\n",
    "    imgData = img.getdata()\n",
    "    m = mode(imgData)\n",
    "    count = op.countOf(imgData, m)\n",
    "    totalPixels = len(imgData)\n",
    "    colorPercentage = count / totalPixels\n",
    "\n",
    "    if(colorPercentage >= backgroundColorPercentage):\n",
    "        bgRemoveCounter += 1\n",
    "        newData = []\n",
    "        for pix in imgData:\n",
    "            if(equalsThreshold(m, pix, 60)):\n",
    "                newData.append((0, 0, 0, 0))\n",
    "            else:\n",
    "                newData.append((pix[0], pix[1], pix[2], pix[3]))\n",
    "            \n",
    "        \n",
    "        img.putdata(newData)\n",
    "\n",
    "    totalCounter += 1    \n",
    "    return img"
   ]
  },
  {
   "cell_type": "code",
   "execution_count": null,
   "metadata": {},
   "outputs": [],
   "source": [
    "import sys\n",
    "\n",
    "\n",
    "def cleanImagesInDir(dir):\n",
    "    files = os.listdir(dir)\n",
    "    subdir = dir.removeprefix(f'{imageDir}')\n",
    "\n",
    "    if subdir.startswith(os.sep):\n",
    "        subdir = subdir[1:]\n",
    "\n",
    "    newdir = os.path.join(outputDir, subdir)\n",
    "\n",
    "    oppositeSep = '\\\\' if os.sep != '\\\\' else '/'\n",
    "    newdir = newdir.replace(oppositeSep, os.sep)\n",
    "\n",
    "    try:\n",
    "        os.mkdir(newdir)\n",
    "    except:\n",
    "        pass\n",
    "\n",
    "    for file in files:\n",
    "        listedFile = os.path.join(dir, file)\n",
    "        if os.path.isdir(listedFile):\n",
    "            cleanImagesInDir(listedFile)\n",
    "            continue\n",
    "\n",
    "        try:\n",
    "            img = Image.open(listedFile)\n",
    "            img = img.convert(\"RGBA\")\n",
    "            img = removeBackground(img)\n",
    "            fileName = file.split('/')[-1]\n",
    "            fileName = fileName.split('.')[0] + '.png'\n",
    "            savedir = os.path.join(newdir, fileName)\n",
    "            img.save(savedir, 'PNG')\n",
    "            print(f'saving: {savedir}')\n",
    "        except Exception as e:\n",
    "            print(f'Exception converting {listedFile} ==> {e}')\n",
    "            sys.exit(1)\n"
   ]
  },
  {
   "cell_type": "code",
   "execution_count": null,
   "metadata": {},
   "outputs": [],
   "source": [
    "cleanImagesInDir(imageDir)\n",
    "print(f\"Done! Removed bakgrounds from {bgRemoveCounter} out of {totalCounter} images\")"
   ]
  }
 ],
 "metadata": {
  "kernelspec": {
   "display_name": "Python 3.9.12 ('base')",
   "language": "python",
   "name": "python3"
  },
  "language_info": {
   "codemirror_mode": {
    "name": "ipython",
    "version": 3
   },
   "file_extension": ".py",
   "mimetype": "text/x-python",
   "name": "python",
   "nbconvert_exporter": "python",
   "pygments_lexer": "ipython3",
   "version": "3.9.12"
  },
  "orig_nbformat": 4,
  "vscode": {
   "interpreter": {
    "hash": "56fba5a93d342786a90ffe95e361da1e255182c8d0ccdc23e57ce80b634b9f83"
   }
  }
 },
 "nbformat": 4,
 "nbformat_minor": 2
}
